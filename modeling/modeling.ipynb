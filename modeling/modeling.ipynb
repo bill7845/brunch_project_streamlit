{
  "nbformat": 4,
  "nbformat_minor": 0,
  "metadata": {
    "colab": {
      "name": "modeling.ipynb",
      "provenance": [],
      "collapsed_sections": [],
      "machine_shape": "hm",
      "mount_file_id": "1gw4BUhgzzwwOVy7yK_GOOsmOrSRtGfxT",
      "authorship_tag": "ABX9TyN+J8DXbEAiCWIT0l9LKJk2",
      "include_colab_link": true
    },
    "kernelspec": {
      "name": "python3",
      "display_name": "Python 3"
    },
    "accelerator": "GPU"
  },
  "cells": [
    {
      "cell_type": "markdown",
      "metadata": {
        "id": "view-in-github",
        "colab_type": "text"
      },
      "source": [
        "<a href=\"https://colab.research.google.com/github/bill7845/project_brunchNetworking_streamlit/blob/master/modeling/modeling.ipynb\" target=\"_parent\"><img src=\"https://colab.research.google.com/assets/colab-badge.svg\" alt=\"Open In Colab\"/></a>"
      ]
    },
    {
      "cell_type": "code",
      "metadata": {
        "id": "UN8Sq88Cybma",
        "colab_type": "code",
        "colab": {}
      },
      "source": [
        "## Colab에서 LightGBM을 GPU로 사용할 경우 "
      ],
      "execution_count": 0,
      "outputs": []
    },
    {
      "cell_type": "code",
      "metadata": {
        "id": "ZDizFmMrg3Mv",
        "colab_type": "code",
        "colab": {}
      },
      "source": [
        "# !git clone https://github.com/Microsoft/LightGBM"
      ],
      "execution_count": 0,
      "outputs": []
    },
    {
      "cell_type": "code",
      "metadata": {
        "id": "eDNgUv74g4Jx",
        "colab_type": "code",
        "colab": {}
      },
      "source": [
        "# cd LightGBM"
      ],
      "execution_count": 0,
      "outputs": []
    },
    {
      "cell_type": "code",
      "metadata": {
        "id": "tM9tNxtQg4Lx",
        "colab_type": "code",
        "colab": {}
      },
      "source": [
        "# !mkdir build"
      ],
      "execution_count": 0,
      "outputs": []
    },
    {
      "cell_type": "code",
      "metadata": {
        "id": "SplBAteHg4OC",
        "colab_type": "code",
        "colab": {}
      },
      "source": [
        "# !cmake -DUSE_GPU=1"
      ],
      "execution_count": 0,
      "outputs": []
    },
    {
      "cell_type": "code",
      "metadata": {
        "id": "oyB0h442g4Sn",
        "colab_type": "code",
        "colab": {}
      },
      "source": [
        "# !make -j$(nproc)"
      ],
      "execution_count": 0,
      "outputs": []
    },
    {
      "cell_type": "code",
      "metadata": {
        "id": "7X2FGsrvg4U4",
        "colab_type": "code",
        "colab": {}
      },
      "source": [
        "# !sudo apt-get -y install python-pip"
      ],
      "execution_count": 0,
      "outputs": []
    },
    {
      "cell_type": "code",
      "metadata": {
        "id": "j5bDwc62g4Z6",
        "colab_type": "code",
        "colab": {}
      },
      "source": [
        "# !sudo -H pip install setuptools pandas numpy scipy scikit-learn -U"
      ],
      "execution_count": 0,
      "outputs": []
    },
    {
      "cell_type": "code",
      "metadata": {
        "id": "ovj0DatlhFIQ",
        "colab_type": "code",
        "colab": {}
      },
      "source": [
        "# %cd /content/LightGBM/python-package"
      ],
      "execution_count": 0,
      "outputs": []
    },
    {
      "cell_type": "code",
      "metadata": {
        "id": "G_Qwp6MdhFOl",
        "colab_type": "code",
        "colab": {}
      },
      "source": [
        "# !sudo python setup.py install"
      ],
      "execution_count": 0,
      "outputs": []
    },
    {
      "cell_type": "code",
      "metadata": {
        "id": "eB_6nkMzhZnI",
        "colab_type": "code",
        "colab": {}
      },
      "source": [
        "################################################################## "
      ],
      "execution_count": 0,
      "outputs": []
    },
    {
      "cell_type": "code",
      "metadata": {
        "id": "oVtbvIZcymKT",
        "colab_type": "code",
        "colab": {}
      },
      "source": [
        "## sklearn 버전 번경\n",
        "## 실행 후 런타임 재시작"
      ],
      "execution_count": 0,
      "outputs": []
    },
    {
      "cell_type": "code",
      "metadata": {
        "id": "bCfvcfF4hQnU",
        "colab_type": "code",
        "colab": {}
      },
      "source": [
        "# !pip3 uninstall scikit-learn"
      ],
      "execution_count": 0,
      "outputs": []
    },
    {
      "cell_type": "code",
      "metadata": {
        "id": "oR4HzJvwhR2W",
        "colab_type": "code",
        "colab": {}
      },
      "source": [
        "# !pip3 install scikit-learn==0.21.3"
      ],
      "execution_count": 0,
      "outputs": []
    },
    {
      "cell_type": "code",
      "metadata": {
        "id": "333KDwMjg4Xt",
        "colab_type": "code",
        "colab": {}
      },
      "source": [
        "##################"
      ],
      "execution_count": 0,
      "outputs": []
    },
    {
      "cell_type": "code",
      "metadata": {
        "id": "1p6BoMWdypYt",
        "colab_type": "code",
        "colab": {}
      },
      "source": [
        "## Colab에서 mecab 사용할 경우"
      ],
      "execution_count": 0,
      "outputs": []
    },
    {
      "cell_type": "code",
      "metadata": {
        "id": "vrQBET_Ml84J",
        "colab_type": "code",
        "colab": {}
      },
      "source": [
        "# ! git clone https://github.com/SOMJANG/Mecab-ko-for-Google-Colab.git"
      ],
      "execution_count": 0,
      "outputs": []
    },
    {
      "cell_type": "code",
      "metadata": {
        "id": "d36UbeSFl87w",
        "colab_type": "code",
        "colab": {}
      },
      "source": [
        "# cd Mecab-ko-for-Google-Colab/"
      ],
      "execution_count": 0,
      "outputs": []
    },
    {
      "cell_type": "code",
      "metadata": {
        "id": "GOQylsMml8_v",
        "colab_type": "code",
        "colab": {}
      },
      "source": [
        "# ! bash install_mecab-ko_on_colab190912.sh"
      ],
      "execution_count": 0,
      "outputs": []
    },
    {
      "cell_type": "code",
      "metadata": {
        "id": "n2Nx1kqKtyt1",
        "colab_type": "code",
        "colab": {}
      },
      "source": [
        "####################"
      ],
      "execution_count": 0,
      "outputs": []
    },
    {
      "cell_type": "code",
      "metadata": {
        "id": "OTLCIgdrkubX",
        "colab_type": "code",
        "colab": {}
      },
      "source": [
        "## library import\n",
        "import pandas as pd\n",
        "import json\n",
        "import pickle\n",
        "import os\n",
        "import urllib.request\n",
        "import re\n",
        "import numpy as np\n",
        "import warnings\n",
        "warnings.filterwarnings(action='ignore')\n",
        "\n",
        "from sklearn.model_selection import GridSearchCV\n",
        "from sklearn.metrics import confusion_matrix,accuracy_score,f1_score\n",
        "from sklearn.metrics import classification_report\n",
        "\n",
        "%matplotlib inline\n",
        "import matplotlib.pyplot as plt\n",
        "import matplotlib as mpl \n",
        "import matplotlib.font_manager as fm"
      ],
      "execution_count": 0,
      "outputs": []
    },
    {
      "cell_type": "code",
      "metadata": {
        "id": "Oso5VHZiz7LF",
        "colab_type": "code",
        "colab": {}
      },
      "source": [
        "from sklearn.feature_extraction.text import TfidfVectorizer\n",
        "\n",
        "## tfidf_vect_mecab_pos_mindf005 => mecab, pos(길이2이상명사) , min_df=0.05\n",
        "## tfidf_vect_mecab_pos_len2 => mecab, pos(길이2이상명사)\n",
        "## tfidf_vect_mecab_pos_ngram => mecab, posd(길이2이상명사), ngram(1,2)\n",
        "## tfidf_vect_mecab_ngram_extraction => mecab, pos(길이2이상명사), ngram 추출법으로 차원줄임 , 빈도수10이상\n",
        "\n",
        "\n",
        "path = '/content/drive/My Drive/Colab code/brunch_project/data/vect'\n",
        "\n",
        "with open('/content/drive/My Drive/Colab code/brunch_project/data/vect/tfidf_train_matrix_mecab_pos_len2.pkl', 'rb') as f:\n",
        "  tfidf_train_matrix = pickle.load(f) \n",
        "with open('/content/drive/My Drive/Colab code/brunch_project/data/vect/tfidf_test_matrix_mecab_pos_len2.pkl', 'rb') as f:\n",
        "  tfidf_test_matrix = pickle.load(f)\n",
        "# with open('/content/drive/My Drive/Colab code/brunch_project/data/vect/tfidf_val_matrix_mecab_pos_len2.pkl', 'rb') as f:\n",
        "  # tfidf_val_matrix = pickle.load(f)\n",
        "\n",
        "with open('/content/drive/My Drive/Colab code/brunch_project/data/vect/y_train.pkl', 'rb') as f:\n",
        "  y_train = pickle.load(f)\n",
        "with open('/content/drive/My Drive/Colab code/brunch_project/data/vect/y_test.pkl', 'rb') as f:\n",
        "  y_test = pickle.load(f)\n",
        "# with open('/content/drive/My Drive/Colab code/brunch_project/data/vect/y_val.pkl', 'rb') as f:\n",
        "  # y_val = pickle.load(f)"
      ],
      "execution_count": 0,
      "outputs": []
    },
    {
      "cell_type": "code",
      "metadata": {
        "id": "dpGKJxGdBEIA",
        "colab_type": "code",
        "colab": {}
      },
      "source": [
        "## top_n error\n",
        "## 예측한 최상위 2개 범주 가운데 정답이 없는 경우의 오류율\n",
        "def top_n_error(model, y_test_proba, y_test, top_n=2):\n",
        "\n",
        "  top_n_pred = np.argsort(y_test_proba, axis=1)[:, -top_n:]\n",
        "  class_labels = model.classes_\n",
        "  \n",
        "  true_score = 0\n",
        "  for i in range(len(y_test)):\n",
        "    if y_test.iloc[i] not in class_labels[top_n_pred][i]:\n",
        "      true_score += 1\n",
        "    else :\n",
        "      pass\n",
        "  \n",
        "  error_rate = true_score / len(y_test)\n",
        "\n",
        "  print(\"Top_\"+str(top_n)+\" Error : \",error_rate)\n",
        "\n",
        "  return error_rate\n"
      ],
      "execution_count": 0,
      "outputs": []
    },
    {
      "cell_type": "code",
      "metadata": {
        "id": "x4rTgqoDaavj",
        "colab_type": "code",
        "colab": {
          "base_uri": "https://localhost:8080/",
          "height": 52
        },
        "outputId": "ae980e69-d841-4aea-eedc-80c8e87c93d8"
      },
      "source": [
        "## LightGBM\n",
        "from lightgbm import LGBMClassifier\n",
        "\n",
        "# {'max_depth': 256, 'min_child_samples': 200, 'num_leaves': 128, 'subsample': 0.5}\n",
        "# lgbm_model = LGBMClassifier(n_estimators=50,\n",
        "#                        objective='multiclass',\n",
        "#                        num_class=18,\n",
        "#                        device='gpu',\n",
        "#                        max_depth=256,\n",
        "#                        min_child_samples=200,\n",
        "#                        num_leaves=128,\n",
        "#                        subsample=0.8,\n",
        "#                        learning_rate=0.03)\n",
        "\n",
        "# lgbm_model.fit(tfidf_train_matrix, y_train)\n",
        "\n",
        "# path = '/content/drive/My Drive/Colab code/brunch_project/data/model_weight'\n",
        "# pickle.dump(lgbm_model, open(os.path.join(path,'classifier_lgbm.pkl'),'wb'),protocol=4)\n",
        "\n",
        "# with open('/content/drive/My Drive/Colab code/brunch_project/data/model_weight/classifier_lgbm.pkl', 'rb') as f:\n",
        "#   lgbm_model = pickle.load(f)\n",
        "\n",
        "# pred_lgbm = lgbm_model.predict(tfidf_test_matrix)\n",
        "# pred_lgbm_proba = lgbm_model.predict_proba(tfidf_test_matrix)\n",
        "\n",
        "# print(\"classification report\", classification_report(y_test,pred_lgbm))\n",
        "# print(\"accuracy : \",accuracy_score(y_test,pred_lgbm))\n",
        "# print(\"f1_score : \",f1_score(y_test,pred_lgbm, average='macro'))\n",
        "top_2_error = top_n_error(lgbm_model ,pred_lgbm_proba, y_test, top_n=3)\n",
        "print(top_2_error)"
      ],
      "execution_count": 15,
      "outputs": [
        {
          "output_type": "stream",
          "text": [
            "Top_3 Error :  0.09602128085581076\n",
            "0.09602128085581076\n"
          ],
          "name": "stdout"
        }
      ]
    },
    {
      "cell_type": "code",
      "metadata": {
        "id": "L81DCLHP2UWW",
        "colab_type": "code",
        "outputId": "83ed8238-b049-4cc5-9ce8-88f50f437aa1",
        "colab": {
          "base_uri": "https://localhost:8080/",
          "height": 515
        }
      },
      "source": [
        "# logistic Regression\n",
        "\n",
        "from sklearn.linear_model import LogisticRegression\n",
        "\n",
        "# lg_model = LogisticRegression(C=1,multi_class='multinomial',solver='lbfgs')\n",
        "# lg_model.fit(tfidf_train_matrix,y_train)\n",
        "\n",
        "# path = '/content/drive/My Drive/Colab code/brunch_project/data/model_weight'\n",
        "# pickle.dump(lg_model, open(os.path.join(path,'classifier_lg.pkl'),'wb'),protocol=4)\n",
        "\n",
        "with open('/content/drive/My Drive/Colab code/brunch_project/data/model_weight/classifier_lg.pkl', 'rb') as f:\n",
        "  lg_model = pickle.load(f)\n",
        "\n",
        "pred_logistic = lg_model.predict(tfidf_test_matrix)\n",
        "pred_logistic_proba = lg_model.predict_proba(tfidf_test_matrix)\n",
        "\n",
        "print(\"classification report\", classification_report(y_test,pred_logistic))\n",
        "print(\"accuracy : \",accuracy_score(y_test,pred_logistic))\n",
        "print(\"f1_score : \",f1_score(y_test,pred_logistic, average='macro'))\n",
        "top_2_error = top_n_error(lg_model ,pred_logistic_proba, y_test, top_n=2)"
      ],
      "execution_count": 4,
      "outputs": [
        {
          "output_type": "stream",
          "text": [
            "classification report               precision    recall  f1-score   support\n",
            "\n",
            "           0       0.79      0.82      0.81      2842\n",
            "           1       0.82      0.83      0.83       839\n",
            "           2       0.84      0.84      0.84      1312\n",
            "           3       0.68      0.57      0.62      1585\n",
            "           4       0.70      0.57      0.63       764\n",
            "           5       0.69      0.60      0.64      1294\n",
            "           6       0.74      0.72      0.73      1063\n",
            "           7       0.90      0.88      0.89      1668\n",
            "           8       0.68      0.69      0.68      2934\n",
            "           9       0.44      0.53      0.48      2941\n",
            "          10       0.82      0.85      0.83      2578\n",
            "          11       0.74      0.69      0.71      1479\n",
            "          12       0.83      0.81      0.82      1918\n",
            "          13       0.82      0.84      0.83      2634\n",
            "          14       0.68      0.67      0.68      3022\n",
            "          15       0.84      0.83      0.83      1871\n",
            "          16       0.73      0.69      0.71      2205\n",
            "          17       0.78      0.79      0.78      2012\n",
            "\n",
            "    accuracy                           0.74     34961\n",
            "   macro avg       0.75      0.73      0.74     34961\n",
            "weighted avg       0.74      0.74      0.74     34961\n",
            "\n",
            "accuracy :  0.7362203598295243\n",
            "f1_score :  0.7416609500133016\n",
            "Top_2 Error :  0.1238522925545608\n"
          ],
          "name": "stdout"
        }
      ]
    },
    {
      "cell_type": "code",
      "metadata": {
        "id": "ZH7Dn2TP2qyh",
        "colab_type": "code",
        "colab": {
          "base_uri": "https://localhost:8080/",
          "height": 461
        },
        "outputId": "f3cb7680-9076-4b3d-b24c-98185653d021"
      },
      "source": [
        "print(classification_report(y_test,pred_logistic))"
      ],
      "execution_count": 12,
      "outputs": [
        {
          "output_type": "stream",
          "text": [
            "              precision    recall  f1-score   support\n",
            "\n",
            "           0       0.79      0.82      0.81      2842\n",
            "           1       0.82      0.83      0.83       839\n",
            "           2       0.84      0.84      0.84      1312\n",
            "           3       0.68      0.57      0.62      1585\n",
            "           4       0.70      0.57      0.63       764\n",
            "           5       0.69      0.60      0.64      1294\n",
            "           6       0.74      0.72      0.73      1063\n",
            "           7       0.90      0.88      0.89      1668\n",
            "           8       0.68      0.69      0.68      2934\n",
            "           9       0.44      0.53      0.48      2941\n",
            "          10       0.82      0.85      0.83      2578\n",
            "          11       0.74      0.69      0.71      1479\n",
            "          12       0.83      0.81      0.82      1918\n",
            "          13       0.82      0.84      0.83      2634\n",
            "          14       0.68      0.67      0.68      3022\n",
            "          15       0.84      0.83      0.83      1871\n",
            "          16       0.73      0.69      0.71      2205\n",
            "          17       0.78      0.79      0.78      2012\n",
            "\n",
            "    accuracy                           0.74     34961\n",
            "   macro avg       0.75      0.73      0.74     34961\n",
            "weighted avg       0.74      0.74      0.74     34961\n",
            "\n"
          ],
          "name": "stdout"
        }
      ]
    },
    {
      "cell_type": "code",
      "metadata": {
        "id": "aZ5NwptmhCNE",
        "colab_type": "code",
        "colab": {
          "base_uri": "https://localhost:8080/",
          "height": 747
        },
        "outputId": "b8385225-e0c9-4751-caec-e91722521d65"
      },
      "source": [
        "# lg_confusion_matrix \n",
        "def plot_confusion_matrix(cm, classes,\n",
        "                          normalize=False,\n",
        "                          title='Logistic Regression Confusion matrix',\n",
        "                          cmap=plt.cm.Blues):\n",
        "    \"\"\"\n",
        "    This function prints and plots the confusion matrix.\n",
        "    Normalization can be applied by setting `normalize=True`.\n",
        "    \"\"\"\n",
        "    import itertools\n",
        "    if normalize:\n",
        "        cm = cm.astype('float') / cm.sum(axis=1)[:, np.newaxis]\n",
        "        print(\"Normalized confusion matrix\")\n",
        "    else:\n",
        "        print('Confusion matrix, without normalization')\n",
        "\n",
        "    # print(cm)\n",
        "\n",
        "    plt.imshow(cm, interpolation='nearest', cmap=cmap)\n",
        "    plt.title(title)\n",
        "    plt.colorbar()\n",
        "    tick_marks = np.arange(len(classes))\n",
        "    plt.xticks(tick_marks, classes, rotation=45)\n",
        "    plt.yticks(tick_marks, classes)\n",
        "\n",
        "    fmt = '.2f' if normalize else 'd'\n",
        "    thresh = cm.max() / 2.\n",
        "    for i, j in itertools.product(range(cm.shape[0]), range(cm.shape[1])):\n",
        "        plt.text(j, i, format(cm[i, j], fmt),\n",
        "                 horizontalalignment=\"center\",\n",
        "                 color=\"white\" if cm[i, j] > thresh else \"black\")\n",
        "\n",
        "    plt.ylabel('True label')\n",
        "    plt.xlabel('Predicted label')\n",
        "    plt.tight_layout()\n",
        "\n",
        "classes = list(y_test.unique())\n",
        "cnf_matrix = confusion_matrix(y_test, pred_logistic, labels=classes)\n",
        "np.set_printoptions(precision=2)\n",
        "\n",
        "plt.figure(figsize=(13,10))\n",
        "plot_confusion_matrix(cnf_matrix, classes=classes,\n",
        "                      title='Logistic Regression Confusion Matrix')"
      ],
      "execution_count": 10,
      "outputs": [
        {
          "output_type": "stream",
          "text": [
            "Confusion matrix, without normalization\n"
          ],
          "name": "stdout"
        },
        {
          "output_type": "display_data",
          "data": {
            "image/png": "[encoded data removed]",
            "text/plain": [
              "<Figure size 1080x720 with 2 Axes>"
            ]
          },
          "metadata": {
            "tags": [],
            "needs_background": "light"
          }
        }
      ]
    },
    {
      "cell_type": "code",
      "metadata": {
        "id": "vcq3zVw13G0-",
        "colab_type": "code",
        "outputId": "6c69bbd7-aa9e-4928-a3d7-5c512e38c961",
        "colab": {
          "base_uri": "https://localhost:8080/",
          "height": 570
        }
      },
      "source": [
        "from sklearn.naive_bayes import MultinomialNB\n",
        "\n",
        "\n",
        "# nb_model = MultinomialNB(alpha=0.01)\n",
        "\n",
        "# nb_model.fit(tfidf_train_matrix,y_train)\n",
        "\n",
        "# path = '/content/drive/My Drive/Colab code/brunch_project/data/model_weight'\n",
        "# pickle.dump(nb_model, open(os.path.join(path,'classifier_nb.pkl'),'wb'),protocol=4)\n",
        "\n",
        "with open('/content/drive/My Drive/Colab code/brunch_project/data/model_weight/classifier_nb.pkl', 'rb') as f:\n",
        "  nb_model = pickle.load(f)\n",
        "\n",
        "pred_nb = nb_model.predict(tfidf_test_matrix)\n",
        "pred_nb_proba = nb_model.predict_proba(tfidf_test_matrix)\n",
        "\n",
        "print(\"classification report\", classification_report(y_test,pred_nb))\n",
        "print(\"accuracy : \",accuracy_score(y_test,pred_nb))\n",
        "print(\"f1_score : \",f1_score(y_test,pred_nb, average='macro'))\n",
        "\n",
        "top_2_error = top_n_error(nb_model ,pred_nb_proba, y_test, top_n=3)"
      ],
      "execution_count": 19,
      "outputs": [
        {
          "output_type": "stream",
          "text": [
            "/usr/local/lib/python3.6/dist-packages/sklearn/base.py:334: UserWarning: Trying to unpickle estimator MultinomialNB from version 0.22.2.post1 when using version 0.23.1. This might lead to breaking code or invalid results. Use at your own risk.\n",
            "  UserWarning)\n"
          ],
          "name": "stderr"
        },
        {
          "output_type": "stream",
          "text": [
            "classification report               precision    recall  f1-score   support\n",
            "\n",
            "           0       0.74      0.76      0.75      2842\n",
            "           1       0.76      0.84      0.79       839\n",
            "           2       0.87      0.76      0.81      1312\n",
            "           3       0.59      0.50      0.54      1585\n",
            "           4       0.67      0.48      0.56       764\n",
            "           5       0.58      0.55      0.56      1294\n",
            "           6       0.70      0.69      0.70      1063\n",
            "           7       0.90      0.81      0.85      1668\n",
            "           8       0.59      0.63      0.61      2934\n",
            "           9       0.40      0.41      0.41      2941\n",
            "          10       0.77      0.86      0.81      2578\n",
            "          11       0.71      0.63      0.66      1479\n",
            "          12       0.78      0.77      0.77      1918\n",
            "          13       0.78      0.82      0.80      2634\n",
            "          14       0.60      0.61      0.60      3022\n",
            "          15       0.83      0.78      0.81      1871\n",
            "          16       0.65      0.68      0.66      2205\n",
            "          17       0.70      0.75      0.73      2012\n",
            "\n",
            "    accuracy                           0.69     34961\n",
            "   macro avg       0.70      0.68      0.69     34961\n",
            "weighted avg       0.69      0.69      0.68     34961\n",
            "\n",
            "accuracy :  0.6854781041732216\n",
            "f1_score :  0.6906388325683657\n",
            "Top_3 Error :  0.10863533651783416\n"
          ],
          "name": "stdout"
        }
      ]
    },
    {
      "cell_type": "code",
      "metadata": {
        "id": "C-7ulkluqKkt",
        "colab_type": "code",
        "outputId": "6defe7c6-bce6-4905-d548-48255cc9ead1",
        "colab": {
          "base_uri": "https://localhost:8080/",
          "height": 606
        }
      },
      "source": [
        "from sklearn.ensemble import RandomForestClassifier\n",
        "\n",
        "# rf_model = RandomForestClassifier(n_estimators=100, max_depth=512, min_samples_leaf=1, min_samples_split=16, n_jobs=-1)\n",
        "# rf_model.fit(tfidf_train_matrix,y_train)\n",
        "\n",
        "# path = '/content/drive/My Drive/Colab code/brunch_project/data/model_weight'\n",
        "# pickle.dump(rf_model, open(os.path.join(path,'classifier_rf.pkl'),'wb'),protocol=4)\n",
        "\n",
        "with open('/content/drive/My Drive/Colab code/brunch_project/data/model_weight/classifier_rf.pkl', 'rb') as f:\n",
        "  rf_model = pickle.load(f)\n",
        "\n",
        "pred_rf = rf_model.predict(tfidf_test_matrix)\n",
        "pred_rf_proba = rf_model.predict_proba(tfidf_test_matrix)\n",
        "\n",
        "print(\"classification report\", classification_report(y_test,pred_rf))\n",
        "print(\"accuracy : \",accuracy_score(y_test,pred_rf))\n",
        "print(\"f1_score : \",f1_score(y_test,pred_rf, average='macro'))\n",
        "top_2_error = top_n_error(rf_model ,pred_rf_proba, y_test, top_n=3)"
      ],
      "execution_count": 17,
      "outputs": [
        {
          "output_type": "stream",
          "text": [
            "/usr/local/lib/python3.6/dist-packages/sklearn/base.py:334: UserWarning: Trying to unpickle estimator DecisionTreeClassifier from version 0.22.2.post1 when using version 0.23.1. This might lead to breaking code or invalid results. Use at your own risk.\n",
            "  UserWarning)\n",
            "/usr/local/lib/python3.6/dist-packages/sklearn/base.py:334: UserWarning: Trying to unpickle estimator RandomForestClassifier from version 0.22.2.post1 when using version 0.23.1. This might lead to breaking code or invalid results. Use at your own risk.\n",
            "  UserWarning)\n"
          ],
          "name": "stderr"
        },
        {
          "output_type": "stream",
          "text": [
            "classification report               precision    recall  f1-score   support\n",
            "\n",
            "           0       0.64      0.85      0.73      2842\n",
            "           1       0.79      0.78      0.79       839\n",
            "           2       0.87      0.72      0.79      1312\n",
            "           3       0.76      0.38      0.51      1585\n",
            "           4       0.83      0.19      0.31       764\n",
            "           5       0.73      0.41      0.52      1294\n",
            "           6       0.74      0.52      0.61      1063\n",
            "           7       0.87      0.84      0.85      1668\n",
            "           8       0.59      0.67      0.63      2934\n",
            "           9       0.43      0.24      0.30      2941\n",
            "          10       0.67      0.89      0.76      2578\n",
            "          11       0.71      0.55      0.62      1479\n",
            "          12       0.74      0.76      0.75      1918\n",
            "          13       0.69      0.88      0.77      2634\n",
            "          14       0.57      0.68      0.62      3022\n",
            "          15       0.77      0.84      0.81      1871\n",
            "          16       0.63      0.72      0.67      2205\n",
            "          17       0.70      0.76      0.73      2012\n",
            "\n",
            "    accuracy                           0.67     34961\n",
            "   macro avg       0.71      0.65      0.65     34961\n",
            "weighted avg       0.68      0.67      0.66     34961\n",
            "\n",
            "accuracy :  0.6738937673407511\n",
            "f1_score :  0.6549179110316352\n",
            "Top_3 Error :  0.10751980778581849\n"
          ],
          "name": "stdout"
        }
      ]
    },
    {
      "cell_type": "code",
      "metadata": {
        "id": "I98_QvhWuBtG",
        "colab_type": "code",
        "colab": {}
      },
      "source": [
        "###########################################################################################"
      ],
      "execution_count": 0,
      "outputs": []
    },
    {
      "cell_type": "code",
      "metadata": {
        "id": "9daNa00M8Qxc",
        "colab_type": "code",
        "outputId": "728ad18d-d5b3-4ba4-e697-9629455fd94d",
        "colab": {
          "base_uri": "https://localhost:8080/",
          "height": 34
        }
      },
      "source": [
        "## RandomForest gridSearch\n",
        "\n",
        "# from sklearn.ensemble import RandomForestClassifier\n",
        "\n",
        "# rf_params = {'n_estimators':[100],\n",
        "#              'max_depth':[512],\n",
        "#              'min_samples_leaf':[2],\n",
        "#              'min_samples_split':[16]\n",
        "#              }\n",
        "\n",
        "# model_rf = RandomForestClassifier(n_jobs=-1,)\n",
        "# grid_rf = GridSearchCV(model_rf, param_grid=rf_params, cv=2, n_jobs=-1)\n",
        "# grid_rf.fit(tfidf_train_matrix,y_train)\n",
        "\n",
        "# print(grid_rf.best_params_)"
      ],
      "execution_count": 0,
      "outputs": [
        {
          "output_type": "stream",
          "text": [
            "{'max_depth': 512, 'min_samples_leaf': 2, 'min_samples_split': 16, 'n_estimators': 100}\n"
          ],
          "name": "stdout"
        }
      ]
    },
    {
      "cell_type": "code",
      "metadata": {
        "id": "5NrBVVXmz6vc",
        "colab_type": "code",
        "colab": {}
      },
      "source": [
        "# LightGBM gridSearch\n",
        "\n",
        "# {'max_depth': 160, 'min_child_samples': 100, 'num_leaves': 64, 'subsample': 0.8}\n",
        "# {'max_depth': 256, 'min_child_samples': 200, 'num_leaves': 128, 'subsample': 0.8}\n",
        "# {'max_depth': 256, 'min_child_samples': 200, 'num_leaves': 128, 'subsample': 0.8}\n",
        "\n",
        "# from sklearn.model_selection import GridSearchCV\n",
        "# from lightgbm import LGBMClassifier\n",
        "# from sklearn.metrics import confusion_matrix,accuracy_score,f1_score\n",
        "# from sklearn.metrics import classification_report\n",
        "\n",
        "# model = LGBMClassifier(n_estimators=100, objective='multiclass', num_class=18,device='gpu')\n",
        "\n",
        "# param_grid = {\n",
        "#     'max_depth': [256],\n",
        "#     'num_leaves': [128],\n",
        "#     'min_child_samples': [200,250],\n",
        "#     'subsample': [0.8],\n",
        "# }\n",
        "\n",
        "# gridcv = GridSearchCV(model, param_grid=param_grid, cv=2)\n",
        "# gridcv.fit(tfidf_train_matrix, y_train, early_stopping_rounds=30, eval_metric='softmax', eval_set=[(tfidf_train_matrix,y_train),(tfidf_val_matrix,y_val)])\n",
        "\n",
        "# print(gridcv.best_score_)\n",
        "# print(gridcv.best_params_)\n",
        "\n",
        "# pred = gridcv.predict(tfidf_test_matrix)\n",
        "\n",
        "# print(\"classification report\", classification_report(y_test,pred))\n",
        "# print(\"accuracy : \",accuracy_score(y_test,pred))\n",
        "# print(\"f1_score : \",f1_score(y_test,pred, average='macro'))\n",
        "\n",
        "# path = '/content/drive/My Drive/Colab code/brunch_project/data/model_weight'\n",
        "# pickle.dump(gridcv, open(os.path.join(path,'classifier_lgbm_grid.pkl'),'wb'),protocol=4)"
      ],
      "execution_count": 0,
      "outputs": []
    }
  ]
}
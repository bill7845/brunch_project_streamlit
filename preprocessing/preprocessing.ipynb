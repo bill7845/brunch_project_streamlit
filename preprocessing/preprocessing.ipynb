{
  "nbformat": 4,
  "nbformat_minor": 0,
  "metadata": {
    "colab": {
      "name": "preprocessing.ipynb",
      "provenance": [],
      "collapsed_sections": [],
      "machine_shape": "hm",
      "mount_file_id": "1h1jjLDi5aucGT6nV4YBNRsOZQC_XEfRZ",
      "authorship_tag": "ABX9TyOoWlUfxJkMsZvq5I66WlCD",
      "include_colab_link": true
    },
    "kernelspec": {
      "name": "python3",
      "display_name": "Python 3"
    },
    "widgets": {
      "application/vnd.jupyter.widget-state+json": {
        "a39e4f42d12a477b80526cf819fbca76": {
          "model_module": "@jupyter-widgets/controls",
          "model_name": "HBoxModel",
          "state": {
            "_view_name": "HBoxView",
            "_dom_classes": [],
            "_model_name": "HBoxModel",
            "_view_module": "@jupyter-widgets/controls",
            "_model_module_version": "1.5.0",
            "_view_count": null,
            "_view_module_version": "1.5.0",
            "box_style": "",
            "layout": "IPY_MODEL_9f8f1f0383234ac495172ab57cdb46d9",
            "_model_module": "@jupyter-widgets/controls",
            "children": [
              "IPY_MODEL_fa7c21ba486c4aa087a80f5f842fec5b",
              "IPY_MODEL_7ce247dd9a914df2970ce6ba921c49a0"
            ]
          }
        },
        "9f8f1f0383234ac495172ab57cdb46d9": {
          "model_module": "@jupyter-widgets/base",
          "model_name": "LayoutModel",
          "state": {
            "_view_name": "LayoutView",
            "grid_template_rows": null,
            "right": null,
            "justify_content": null,
            "_view_module": "@jupyter-widgets/base",
            "overflow": null,
            "_model_module_version": "1.2.0",
            "_view_count": null,
            "flex_flow": null,
            "width": null,
            "min_width": null,
            "border": null,
            "align_items": null,
            "bottom": null,
            "_model_module": "@jupyter-widgets/base",
            "top": null,
            "grid_column": null,
            "overflow_y": null,
            "overflow_x": null,
            "grid_auto_flow": null,
            "grid_area": null,
            "grid_template_columns": null,
            "flex": null,
            "_model_name": "LayoutModel",
            "justify_items": null,
            "grid_row": null,
            "max_height": null,
            "align_content": null,
            "visibility": null,
            "align_self": null,
            "height": null,
            "min_height": null,
            "padding": null,
            "grid_auto_rows": null,
            "grid_gap": null,
            "max_width": null,
            "order": null,
            "_view_module_version": "1.2.0",
            "grid_template_areas": null,
            "object_position": null,
            "object_fit": null,
            "grid_auto_columns": null,
            "margin": null,
            "display": null,
            "left": null
          }
        },
        "fa7c21ba486c4aa087a80f5f842fec5b": {
          "model_module": "@jupyter-widgets/controls",
          "model_name": "FloatProgressModel",
          "state": {
            "_view_name": "ProgressView",
            "style": "IPY_MODEL_01cfa2e88dbd460b81ccdd51f8f88af5",
            "_dom_classes": [],
            "description": "100%",
            "_model_name": "FloatProgressModel",
            "bar_style": "success",
            "max": 139843,
            "_view_module": "@jupyter-widgets/controls",
            "_model_module_version": "1.5.0",
            "value": 139843,
            "_view_count": null,
            "_view_module_version": "1.5.0",
            "orientation": "horizontal",
            "min": 0,
            "description_tooltip": null,
            "_model_module": "@jupyter-widgets/controls",
            "layout": "IPY_MODEL_0576bff1537f4dd3b1c7cf75130b18cf"
          }
        },
        "7ce247dd9a914df2970ce6ba921c49a0": {
          "model_module": "@jupyter-widgets/controls",
          "model_name": "HTMLModel",
          "state": {
            "_view_name": "HTMLView",
            "style": "IPY_MODEL_e0e709cf5ccd4429a93b97abf7d3da5f",
            "_dom_classes": [],
            "description": "",
            "_model_name": "HTMLModel",
            "placeholder": "​",
            "_view_module": "@jupyter-widgets/controls",
            "_model_module_version": "1.5.0",
            "value": " 139843/139843 [15:48&lt;00:00, 147.41it/s]",
            "_view_count": null,
            "_view_module_version": "1.5.0",
            "description_tooltip": null,
            "_model_module": "@jupyter-widgets/controls",
            "layout": "IPY_MODEL_7f95aaece2ad4b2a92d832caf87862c8"
          }
        },
        "01cfa2e88dbd460b81ccdd51f8f88af5": {
          "model_module": "@jupyter-widgets/controls",
          "model_name": "ProgressStyleModel",
          "state": {
            "_view_name": "StyleView",
            "_model_name": "ProgressStyleModel",
            "description_width": "initial",
            "_view_module": "@jupyter-widgets/base",
            "_model_module_version": "1.5.0",
            "_view_count": null,
            "_view_module_version": "1.2.0",
            "bar_color": null,
            "_model_module": "@jupyter-widgets/controls"
          }
        },
        "0576bff1537f4dd3b1c7cf75130b18cf": {
          "model_module": "@jupyter-widgets/base",
          "model_name": "LayoutModel",
          "state": {
            "_view_name": "LayoutView",
            "grid_template_rows": null,
            "right": null,
            "justify_content": null,
            "_view_module": "@jupyter-widgets/base",
            "overflow": null,
            "_model_module_version": "1.2.0",
            "_view_count": null,
            "flex_flow": null,
            "width": null,
            "min_width": null,
            "border": null,
            "align_items": null,
            "bottom": null,
            "_model_module": "@jupyter-widgets/base",
            "top": null,
            "grid_column": null,
            "overflow_y": null,
            "overflow_x": null,
            "grid_auto_flow": null,
            "grid_area": null,
            "grid_template_columns": null,
            "flex": null,
            "_model_name": "LayoutModel",
            "justify_items": null,
            "grid_row": null,
            "max_height": null,
            "align_content": null,
            "visibility": null,
            "align_self": null,
            "height": null,
            "min_height": null,
            "padding": null,
            "grid_auto_rows": null,
            "grid_gap": null,
            "max_width": null,
            "order": null,
            "_view_module_version": "1.2.0",
            "grid_template_areas": null,
            "object_position": null,
            "object_fit": null,
            "grid_auto_columns": null,
            "margin": null,
            "display": null,
            "left": null
          }
        },
        "e0e709cf5ccd4429a93b97abf7d3da5f": {
          "model_module": "@jupyter-widgets/controls",
          "model_name": "DescriptionStyleModel",
          "state": {
            "_view_name": "StyleView",
            "_model_name": "DescriptionStyleModel",
            "description_width": "",
            "_view_module": "@jupyter-widgets/base",
            "_model_module_version": "1.5.0",
            "_view_count": null,
            "_view_module_version": "1.2.0",
            "_model_module": "@jupyter-widgets/controls"
          }
        },
        "7f95aaece2ad4b2a92d832caf87862c8": {
          "model_module": "@jupyter-widgets/base",
          "model_name": "LayoutModel",
          "state": {
            "_view_name": "LayoutView",
            "grid_template_rows": null,
            "right": null,
            "justify_content": null,
            "_view_module": "@jupyter-widgets/base",
            "overflow": null,
            "_model_module_version": "1.2.0",
            "_view_count": null,
            "flex_flow": null,
            "width": null,
            "min_width": null,
            "border": null,
            "align_items": null,
            "bottom": null,
            "_model_module": "@jupyter-widgets/base",
            "top": null,
            "grid_column": null,
            "overflow_y": null,
            "overflow_x": null,
            "grid_auto_flow": null,
            "grid_area": null,
            "grid_template_columns": null,
            "flex": null,
            "_model_name": "LayoutModel",
            "justify_items": null,
            "grid_row": null,
            "max_height": null,
            "align_content": null,
            "visibility": null,
            "align_self": null,
            "height": null,
            "min_height": null,
            "padding": null,
            "grid_auto_rows": null,
            "grid_gap": null,
            "max_width": null,
            "order": null,
            "_view_module_version": "1.2.0",
            "grid_template_areas": null,
            "object_position": null,
            "object_fit": null,
            "grid_auto_columns": null,
            "margin": null,
            "display": null,
            "left": null
          }
        },
        "395c0572261d4e7c93bf12b775e6497a": {
          "model_module": "@jupyter-widgets/controls",
          "model_name": "HBoxModel",
          "state": {
            "_view_name": "HBoxView",
            "_dom_classes": [],
            "_model_name": "HBoxModel",
            "_view_module": "@jupyter-widgets/controls",
            "_model_module_version": "1.5.0",
            "_view_count": null,
            "_view_module_version": "1.5.0",
            "box_style": "",
            "layout": "IPY_MODEL_32b51da92dcb483b977c2a8a312b3312",
            "_model_module": "@jupyter-widgets/controls",
            "children": [
              "IPY_MODEL_e63a5fa17fa24988a810dfed9d4e8a30",
              "IPY_MODEL_a63445c36b054df0baa19b754719a77a"
            ]
          }
        },
        "32b51da92dcb483b977c2a8a312b3312": {
          "model_module": "@jupyter-widgets/base",
          "model_name": "LayoutModel",
          "state": {
            "_view_name": "LayoutView",
            "grid_template_rows": null,
            "right": null,
            "justify_content": null,
            "_view_module": "@jupyter-widgets/base",
            "overflow": null,
            "_model_module_version": "1.2.0",
            "_view_count": null,
            "flex_flow": null,
            "width": null,
            "min_width": null,
            "border": null,
            "align_items": null,
            "bottom": null,
            "_model_module": "@jupyter-widgets/base",
            "top": null,
            "grid_column": null,
            "overflow_y": null,
            "overflow_x": null,
            "grid_auto_flow": null,
            "grid_area": null,
            "grid_template_columns": null,
            "flex": null,
            "_model_name": "LayoutModel",
            "justify_items": null,
            "grid_row": null,
            "max_height": null,
            "align_content": null,
            "visibility": null,
            "align_self": null,
            "height": null,
            "min_height": null,
            "padding": null,
            "grid_auto_rows": null,
            "grid_gap": null,
            "max_width": null,
            "order": null,
            "_view_module_version": "1.2.0",
            "grid_template_areas": null,
            "object_position": null,
            "object_fit": null,
            "grid_auto_columns": null,
            "margin": null,
            "display": null,
            "left": null
          }
        },
        "e63a5fa17fa24988a810dfed9d4e8a30": {
          "model_module": "@jupyter-widgets/controls",
          "model_name": "FloatProgressModel",
          "state": {
            "_view_name": "ProgressView",
            "style": "IPY_MODEL_22e8b0344fcc44eca0547c3782c6697d",
            "_dom_classes": [],
            "description": "100%",
            "_model_name": "FloatProgressModel",
            "bar_style": "success",
            "max": 34961,
            "_view_module": "@jupyter-widgets/controls",
            "_model_module_version": "1.5.0",
            "value": 34961,
            "_view_count": null,
            "_view_module_version": "1.5.0",
            "orientation": "horizontal",
            "min": 0,
            "description_tooltip": null,
            "_model_module": "@jupyter-widgets/controls",
            "layout": "IPY_MODEL_a357cad59c4d4f899386a49e4de53a07"
          }
        },
        "a63445c36b054df0baa19b754719a77a": {
          "model_module": "@jupyter-widgets/controls",
          "model_name": "HTMLModel",
          "state": {
            "_view_name": "HTMLView",
            "style": "IPY_MODEL_6facc0dab4ff4054a1a4a1a8fa043a5c",
            "_dom_classes": [],
            "description": "",
            "_model_name": "HTMLModel",
            "placeholder": "​",
            "_view_module": "@jupyter-widgets/controls",
            "_model_module_version": "1.5.0",
            "value": " 34961/34961 [04:00&lt;00:00, 145.41it/s]",
            "_view_count": null,
            "_view_module_version": "1.5.0",
            "description_tooltip": null,
            "_model_module": "@jupyter-widgets/controls",
            "layout": "IPY_MODEL_dd082254755443cbbc6479d4819e0e23"
          }
        },
        "22e8b0344fcc44eca0547c3782c6697d": {
          "model_module": "@jupyter-widgets/controls",
          "model_name": "ProgressStyleModel",
          "state": {
            "_view_name": "StyleView",
            "_model_name": "ProgressStyleModel",
            "description_width": "initial",
            "_view_module": "@jupyter-widgets/base",
            "_model_module_version": "1.5.0",
            "_view_count": null,
            "_view_module_version": "1.2.0",
            "bar_color": null,
            "_model_module": "@jupyter-widgets/controls"
          }
        },
        "a357cad59c4d4f899386a49e4de53a07": {
          "model_module": "@jupyter-widgets/base",
          "model_name": "LayoutModel",
          "state": {
            "_view_name": "LayoutView",
            "grid_template_rows": null,
            "right": null,
            "justify_content": null,
            "_view_module": "@jupyter-widgets/base",
            "overflow": null,
            "_model_module_version": "1.2.0",
            "_view_count": null,
            "flex_flow": null,
            "width": null,
            "min_width": null,
            "border": null,
            "align_items": null,
            "bottom": null,
            "_model_module": "@jupyter-widgets/base",
            "top": null,
            "grid_column": null,
            "overflow_y": null,
            "overflow_x": null,
            "grid_auto_flow": null,
            "grid_area": null,
            "grid_template_columns": null,
            "flex": null,
            "_model_name": "LayoutModel",
            "justify_items": null,
            "grid_row": null,
            "max_height": null,
            "align_content": null,
            "visibility": null,
            "align_self": null,
            "height": null,
            "min_height": null,
            "padding": null,
            "grid_auto_rows": null,
            "grid_gap": null,
            "max_width": null,
            "order": null,
            "_view_module_version": "1.2.0",
            "grid_template_areas": null,
            "object_position": null,
            "object_fit": null,
            "grid_auto_columns": null,
            "margin": null,
            "display": null,
            "left": null
          }
        },
        "6facc0dab4ff4054a1a4a1a8fa043a5c": {
          "model_module": "@jupyter-widgets/controls",
          "model_name": "DescriptionStyleModel",
          "state": {
            "_view_name": "StyleView",
            "_model_name": "DescriptionStyleModel",
            "description_width": "",
            "_view_module": "@jupyter-widgets/base",
            "_model_module_version": "1.5.0",
            "_view_count": null,
            "_view_module_version": "1.2.0",
            "_model_module": "@jupyter-widgets/controls"
          }
        },
        "dd082254755443cbbc6479d4819e0e23": {
          "model_module": "@jupyter-widgets/base",
          "model_name": "LayoutModel",
          "state": {
            "_view_name": "LayoutView",
            "grid_template_rows": null,
            "right": null,
            "justify_content": null,
            "_view_module": "@jupyter-widgets/base",
            "overflow": null,
            "_model_module_version": "1.2.0",
            "_view_count": null,
            "flex_flow": null,
            "width": null,
            "min_width": null,
            "border": null,
            "align_items": null,
            "bottom": null,
            "_model_module": "@jupyter-widgets/base",
            "top": null,
            "grid_column": null,
            "overflow_y": null,
            "overflow_x": null,
            "grid_auto_flow": null,
            "grid_area": null,
            "grid_template_columns": null,
            "flex": null,
            "_model_name": "LayoutModel",
            "justify_items": null,
            "grid_row": null,
            "max_height": null,
            "align_content": null,
            "visibility": null,
            "align_self": null,
            "height": null,
            "min_height": null,
            "padding": null,
            "grid_auto_rows": null,
            "grid_gap": null,
            "max_width": null,
            "order": null,
            "_view_module_version": "1.2.0",
            "grid_template_areas": null,
            "object_position": null,
            "object_fit": null,
            "grid_auto_columns": null,
            "margin": null,
            "display": null,
            "left": null
          }
        }
      }
    }
  },
  "cells": [
    {
      "cell_type": "markdown",
      "metadata": {
        "id": "view-in-github",
        "colab_type": "text"
      },
      "source": [
        "<a href=\"https://colab.research.google.com/github/bill7845/project_brunchNetworking_streamlit/blob/master/preprocessing/preprocessing.ipynb\" target=\"_parent\"><img src=\"https://colab.research.google.com/assets/colab-badge.svg\" alt=\"Open In Colab\"/></a>"
      ]
    },
    {
      "cell_type": "code",
      "metadata": {
        "id": "bhcyL5qhtoVk",
        "colab_type": "code",
        "colab": {}
      },
      "source": [
        "## colab에서 konlpy 사용"
      ],
      "execution_count": null,
      "outputs": []
    },
    {
      "cell_type": "code",
      "metadata": {
        "id": "3yRsKw7-l313",
        "colab_type": "code",
        "colab": {}
      },
      "source": [
        "# !apt-get update\n",
        "# !apt-get install g++ openjdk-8-jdk \n",
        "# !pip3 install konlpy"
      ],
      "execution_count": null,
      "outputs": []
    },
    {
      "cell_type": "code",
      "metadata": {
        "id": "2ENPTH1ftnpy",
        "colab_type": "code",
        "colab": {}
      },
      "source": [
        "## colab에서 mecab 사용"
      ],
      "execution_count": null,
      "outputs": []
    },
    {
      "cell_type": "code",
      "metadata": {
        "id": "vrQBET_Ml84J",
        "colab_type": "code",
        "colab": {}
      },
      "source": [
        "# ! git clone https://github.com/SOMJANG/Mecab-ko-for-Google-Colab.git"
      ],
      "execution_count": null,
      "outputs": []
    },
    {
      "cell_type": "code",
      "metadata": {
        "id": "d36UbeSFl87w",
        "colab_type": "code",
        "colab": {}
      },
      "source": [
        "# cd Mecab-ko-for-Google-Colab/"
      ],
      "execution_count": null,
      "outputs": []
    },
    {
      "cell_type": "code",
      "metadata": {
        "id": "GOQylsMml8_v",
        "colab_type": "code",
        "colab": {}
      },
      "source": [
        "# ! bash install_mecab-ko_on_colab190912.sh"
      ],
      "execution_count": null,
      "outputs": []
    },
    {
      "cell_type": "code",
      "metadata": {
        "id": "OTLCIgdrkubX",
        "colab_type": "code",
        "colab": {}
      },
      "source": [
        "## library import\n",
        "import pandas as pd\n",
        "import numpy as np\n",
        "import json\n",
        "import os\n",
        "import pickle\n",
        "import urllib.request\n",
        "import re\n",
        "from konlpy.tag import Okt\n",
        "from konlpy.tag import Mecab\n",
        "\n",
        "%matplotlib inline\n",
        "import matplotlib.pyplot as plt"
      ],
      "execution_count": null,
      "outputs": []
    },
    {
      "cell_type": "code",
      "metadata": {
        "id": "zk8dVF3ymwIs",
        "colab_type": "code",
        "colab": {}
      },
      "source": [
        "dir_name = '/content/drive/My Drive/Colab code/brunch_project/data/basement/json' ## ~~path~~\n",
        "\n",
        "def get_file_list(dir_name): # file name들을 가져오는 함수 # 폴더명 인자 # 폴더가 위치한 경로를 인자로\n",
        "    return os.listdir(dir_name) # 폴더 내 파일명을 리스트 형태로 반환 \n",
        "\n",
        "file_list = get_file_list(dir_name)\n",
        "\n",
        "# \\n, 공백 제거 후 리스트 형식으로 변환 \n",
        "def pre_keyword(x):\n",
        "    tmp = []\n",
        "    for val in x:\n",
        "        tmp.append(val.replace(\"\\n\",\"\").replace(\" \",\"\"))\n",
        "    return tmp\n",
        "\n",
        "# comment가 없는경우 공백이 아닌 Nan으로 변환\n",
        "def pre_comment(x):\n",
        "    if len(x) == 0:\n",
        "        return None\n",
        "    else :\n",
        "        return x\n",
        "#  문자열로 변환\n",
        "def pre_text(x):\n",
        "    return str(x)\n",
        "\n",
        "# datetime형식으로 변환\n",
        "def pre_datetime(x):\n",
        "    x = x.split('T')[0]\n",
        "    x = pd.to_datetime(x,format=\"%Y-%m-%d\")\n",
        "    return x\n",
        "\n",
        "\n",
        "## 전체 json 파일을 DataFrame으로 합친 후, 전처리 ##\n",
        "all_df = pd.DataFrame(columns=['class','text'])\n",
        "each_df = {}\n",
        "class_name = []\n",
        "\n",
        "for file in file_list:\n",
        "    with open('/content/drive/My Drive/Colab code/brunch_project/data/basement/json/'+file,encoding='UTF8') as json_file:\n",
        "        json_data = json.load(json_file)\n",
        "\n",
        "    class_name.append(file[:-5])\n",
        "    \n",
        "    df = pd.DataFrame(json_data['data'],\n",
        "                  columns=['title','keyword','text','nickname','publish_date','likes','share','comment','url','url_plink'])\n",
        "    df = df.dropna(subset=['text'])\n",
        "    df['keyword'] = df['keyword'].apply(pre_keyword)\n",
        "    df['comment'] = df['comment'].apply(pre_comment)\n",
        "    df['text'] = df['text'].apply(pre_text)\n",
        "    df['publish_date'] = df['publish_date'].apply(pre_datetime)\n",
        "    df.insert(0,\"class\",file[:-5])\n",
        "\n",
        "    all_df = pd.concat([all_df,df[['class','title','text','keyword','likes','share','comment','publish_date','url']]])\n",
        "    each_df[file[:-5]] = df\n",
        "\n",
        "## class encoding\n",
        "to_categorical = [i for i in range(18)]\n",
        "class_condition = {}\n",
        "for a,b in zip(class_name,to_categorical):\n",
        "  class_condition[a] = b\n",
        "\n",
        "all_df['ori_class'] = all_df['class']\n",
        "all_df['class'] = all_df['class'].map(class_condition)\n",
        "all_df = all_df.reset_index(drop=True)\n",
        "\n",
        "\n",
        "## 불용어 제거\n",
        "import re\n",
        "def pre_text_2(x):\n",
        "  pa = re.compile(\"^\\\\\\\\xa0|xa\")\n",
        "  pa1 = re.compile(r\"'http.*?'\") # 전체 url 제거\n",
        "  pa2 = re.compile(r'\\([^)]*\\)') # () 사이 문자 \n",
        "  pa3 = re.compile('[^\\w\\s]') # 특수문자 삭제\n",
        "  pa4 = re.compile(r'[^a-zA-Zㄱ-힗]')\n",
        "\n",
        "  x = re.sub(pa,' ',x)\n",
        "  x = re.sub(pa1,' ',x)\n",
        "  x = re.sub(pa2,' ',x)\n",
        "  x = re.sub(pa3, ' ',x)\n",
        "  x = re.sub(pa4, ' ',x)\n",
        "  x = x.strip()\n",
        "  x = \" \".join(x.split())\n",
        "  return x \n",
        "all_df['text'] = all_df['text'].apply(pre_text_2)"
      ],
      "execution_count": null,
      "outputs": []
    },
    {
      "cell_type": "code",
      "metadata": {
        "id": "oLwg_lzKrGvq",
        "colab_type": "code",
        "colab": {}
      },
      "source": [
        "## 길이 500자 이하 게시글 제거\n",
        "del_list = []\n",
        "for idx,text in enumerate(all_df['text']):\n",
        "  if len(text) < 500:\n",
        "    del_list.append(idx)\n",
        "\n",
        "all_df = all_df.loc[~all_df.index.isin(del_list), :]"
      ],
      "execution_count": null,
      "outputs": []
    },
    {
      "cell_type": "code",
      "metadata": {
        "id": "bbGElg-ErNJi",
        "colab_type": "code",
        "colab": {
          "base_uri": "https://localhost:8080/",
          "height": 70
        },
        "outputId": "5dbf9207-36cd-4c3f-ce47-84c5d963add4"
      },
      "source": [
        "## 중복 문서 제거\n",
        "print(\"전체 문서 : \", len(all_df['text']))\n",
        "print(\"중복 문서 : \", len(all_df['text']) - all_df['text'].nunique())\n",
        "\n",
        "all_df.drop_duplicates(subset=['text'], inplace=True) # 중복문서 제거\n",
        "print(\"중복 제거 후 전체 문서 :\", len(all_df['text']))\n",
        "\n",
        "all_df = all_df.reset_index(drop=True) # index 초기화 "
      ],
      "execution_count": null,
      "outputs": [
        {
          "output_type": "stream",
          "text": [
            "전체 문서 :  192353\n",
            "중복 문서 :  17549\n",
            "중복 제거 후 전체 문서 : 174804\n"
          ],
          "name": "stdout"
        }
      ]
    },
    {
      "cell_type": "code",
      "metadata": {
        "id": "OgZUDxqtol2P",
        "colab_type": "code",
        "colab": {
          "base_uri": "https://localhost:8080/",
          "height": 642
        },
        "outputId": "c0e6046e-2c2e-43c2-c83f-ef6714cc1d0e"
      },
      "source": [
        "## 전처리 후 class별 결측값 여부 및 분포 확인\n",
        "print('class 결측값 : ',all_df['class'].isnull().sum())\n",
        "print(all_df['class'].value_counts())\n",
        "all_df['class'].value_counts().plot(kind='bar')"
      ],
      "execution_count": null,
      "outputs": [
        {
          "output_type": "stream",
          "text": [
            "class 결측값 :  0\n",
            "14    15110\n",
            "9     14704\n",
            "8     14667\n",
            "0     14207\n",
            "13    13167\n",
            "10    12892\n",
            "16    11027\n",
            "17    10062\n",
            "12     9592\n",
            "15     9353\n",
            "7      8339\n",
            "3      7926\n",
            "11     7397\n",
            "2      6562\n",
            "5      6471\n",
            "6      5316\n",
            "1      4193\n",
            "4      3819\n",
            "Name: class, dtype: int64\n"
          ],
          "name": "stdout"
        },
        {
          "output_type": "execute_result",
          "data": {
            "text/plain": [
              "<matplotlib.axes._subplots.AxesSubplot at 0x7febcc3b43c8>"
            ]
          },
          "metadata": {
            "tags": []
          },
          "execution_count": 5
        },
        {
          "output_type": "display_data",
          "data": {
            "image/png": "[encoded data removed]",
            "text/plain": [
              "<Figure size 432x288 with 1 Axes>"
            ]
          },
          "metadata": {
            "tags": [],
            "needs_background": "light"
          }
        }
      ]
    },
    {
      "cell_type": "code",
      "metadata": {
        "id": "xQ3O1qlC_GP2",
        "colab_type": "code",
        "colab": {}
      },
      "source": [
        "# 전체 DataFrame 저장\n",
        "\n",
        "all_df.to_csv('/content/drive/My Drive/Colab code/brunch_project/data/basement/all_df_pText.csv') # 추가 전처리 완료\n",
        "all_df = pd.read_csv('/content/drive/My Drive/Colab code/brunch_project/data/basement/all_df_pText.csv') # 추가 전처리 완료"
      ],
      "execution_count": null,
      "outputs": []
    },
    {
      "cell_type": "code",
      "metadata": {
        "id": "pgvQltWI2-rF",
        "colab_type": "code",
        "colab": {}
      },
      "source": [
        "## keyword 기반 추천 ##\n",
        "## 각 게시글별 keyword를 벡터화하여 저장 ##\n",
        "from sklearn.feature_extraction.text import CountVectorizer\n",
        "from sklearn.metrics.pairwise import cosine_similarity\n",
        "\n",
        "all_df['keyword_literal'] = all_df['keyword'].apply(lambda x : (' ').join(x)) # keyword vector => [\"keyword1, keyword2, keyword3..\"]\n",
        "keyword_count_vect = CountVectorizer() \n",
        "keyword_mat = keyword_count_vect.fit_transform(all_df['keyword_literal']) # CountVectorizer로 벡터화\n",
        "\n",
        "\n",
        "path = '/content/drive/My Drive/Colab code/brunch_project/data/vect'\n",
        "# vector 저장\n",
        "pickle.dump(keyword_count_vect, open(os.path.join(path,'keyword_count_vect.pkl'),'wb'),\n",
        "            protocol=4)\n",
        "# matrix 저장 \n",
        "pickle.dump(keyword_mat, open(os.path.join(path,'keyword_mat.pkl'),'wb'),\n",
        "            protocol=4)"
      ],
      "execution_count": null,
      "outputs": []
    },
    {
      "cell_type": "code",
      "metadata": {
        "id": "jL-H6Kc-_Pj_",
        "colab_type": "code",
        "colab": {}
      },
      "source": [
        "## 문서기반 추천 ## \n",
        "## 18개 카테고리별(class별) vector와 matrix 생성하여 저장\n",
        "\n",
        "from sklearn.feature_extraction.text import TfidfVectorizer\n",
        "from konlpy.tag import Mecab\n",
        "from tqdm.notebook import tqdm\n",
        "\n",
        "mecab = Mecab()\n",
        "def to_matrix_eachCategory(df):\n",
        "  for category in df['class'].unique():\n",
        "    each_text = all_df[all_df['class'] == category]['text']\n",
        "    each_text = each_text.values.tolist()\n",
        "\n",
        "    train_data = []\n",
        "    tmp = None\n",
        "    for idx in tqdm(range(len(each_text))):\n",
        "        tmp = [i[0] for i in mecab.pos(each_text[idx]) if ( ((i[1]==\"NNG\") or (i[1]==\"NNP\")) and(len(i[0])>1))] # 품사가 명사이면서, 길이가 1이상\n",
        "        train_data.append(\" \".join(tmp))\n",
        "\n",
        "    tfidf_vect = TfidfVectorizer(max_df=0.9)\n",
        "    tfidf_vect.fit(train_data)\n",
        "    tfidf_matrix = tfidf_vect.transform(train_data)\n",
        "\n",
        "    path = '/content/drive/My Drive/Colab code/brunch_project/data/vect/each_vect'\n",
        "    pickle.dump(tfidf_vect, open(os.path.join(path,str(category)+'tfidf_vect.pkl'),'wb'),protocol=4)\n",
        "\n",
        "    path = '/content/drive/My Drive/Colab code/brunch_project/data/vect/each_matrix'\n",
        "    pickle.dump(tfidf_matrix, open(os.path.join(path,str(category)+'tfidf_matrix.pkl'),'wb'),protocol=4)\n",
        "\n",
        "to_matrix_eachCategory(all_df)"
      ],
      "execution_count": null,
      "outputs": []
    },
    {
      "cell_type": "code",
      "metadata": {
        "id": "Y-svs014ObLb",
        "colab_type": "code",
        "colab": {}
      },
      "source": [
        "# 전체 데이터셋을 train/test로 분할하여 저장\n",
        "from sklearn.model_selection import train_test_split\n",
        "\n",
        "X_train,X_test,y_train,y_test = train_test_split(all_df[['text']],all_df['class'],test_size=0.2,random_state=0,stratify=all_df['class']) \n",
        "# X_train,X_val,y_train,y_val = train_test_split(X_train,y_train,test_size=0.2,random_state=0, stratify=y_train) # validation 데이터 필요할 경우\n",
        "\n",
        "X_train = X_train['text'].values.tolist()\n",
        "X_test = X_test['text'].values.tolist()\n",
        "# X_val = X_val['text'].values.tolist()\n",
        "\n",
        "path = '/content/drive/My Drive/Colab code/brunch_project/data/vect'\n",
        "pickle.dump(X_train, open(os.path.join(path,'X_train.pkl'),'wb'),\n",
        "            protocol=4)\n",
        "pickle.dump(X_test, open(os.path.join(path,'X_test.pkl'),'wb'),\n",
        "            protocol=4)\n",
        "# pickle.dump(X_val, open(os.path.join(path,'X_val.pkl'),'wb'),\n",
        "#             protocol=4)\n",
        "\n",
        "pickle.dump(y_train, open(os.path.join(path,'y_train.pkl'),'wb'),\n",
        "            protocol=4)\n",
        "pickle.dump(y_test, open(os.path.join(path,'y_test.pkl'),'wb'),\n",
        "            protocol=4)\n",
        "# pickle.dump(y_val, open(os.path.join(path,'y_val.pkl'),'wb'),\n",
        "#             protocol=4)\n",
        "\n",
        "# with open('/content/drive/My Drive/Colab code/brunch_project/data/vect/X_train.pkl', 'rb') as f:\n",
        "#   X_train = pickle.load(f) \n",
        "# with open('/content/drive/My Drive/Colab code/brunch_project/data/vect/X_test.pkl', 'rb') as f:\n",
        "#   X_test = pickle.load(f)\n",
        "# with open('/content/drive/My Drive/Colab code/brunch_project/data/vect/X_val.pkl', 'rb') as f:\n",
        "  # X_val = pickle.load(f)\n",
        "\n",
        "# with open('/content/drive/My Drive/Colab code/brunch_project/data/vect/y_train.pkl', 'rb') as f:\n",
        "#   y_train = pickle.load(f) \n",
        "# with open('/content/drive/My Drive/Colab code/brunch_project/data/vect/y_test.pkl', 'rb') as f:\n",
        "#   y_test = pickle.load(f)\n",
        "# with open('/content/drive/My Drive/Colab code/brunch_project/data/vect/y_val.pkl', 'rb') as f:\n",
        "  # y_val = pickle.load(f)"
      ],
      "execution_count": null,
      "outputs": []
    },
    {
      "cell_type": "code",
      "metadata": {
        "id": "8j0KL7UnGZ0d",
        "colab_type": "code",
        "colab": {
          "base_uri": "https://localhost:8080/",
          "height": 116,
          "referenced_widgets": [
            "a39e4f42d12a477b80526cf819fbca76",
            "9f8f1f0383234ac495172ab57cdb46d9",
            "fa7c21ba486c4aa087a80f5f842fec5b",
            "7ce247dd9a914df2970ce6ba921c49a0",
            "01cfa2e88dbd460b81ccdd51f8f88af5",
            "0576bff1537f4dd3b1c7cf75130b18cf",
            "e0e709cf5ccd4429a93b97abf7d3da5f",
            "7f95aaece2ad4b2a92d832caf87862c8",
            "395c0572261d4e7c93bf12b775e6497a",
            "32b51da92dcb483b977c2a8a312b3312",
            "e63a5fa17fa24988a810dfed9d4e8a30",
            "a63445c36b054df0baa19b754719a77a",
            "22e8b0344fcc44eca0547c3782c6697d",
            "a357cad59c4d4f899386a49e4de53a07",
            "6facc0dab4ff4054a1a4a1a8fa043a5c",
            "dd082254755443cbbc6479d4819e0e23"
          ]
        },
        "outputId": "fb745f2d-8e86-4248-8879-b210691645aa"
      },
      "source": [
        "from konlpy.tag import Mecab\n",
        "from tqdm.notebook import tqdm\n",
        "\n",
        "## Mecab의 품사태깅(pos)로 길이가 2이상인 명사만 추출\n",
        "mecab_pos_tagger = Mecab()\n",
        "\n",
        "train_data = []\n",
        "tmp = None\n",
        "for idx in tqdm(range(len(X_train))):\n",
        "    tmp = [i[0] for i in mecab_pos_tagger.pos(X_train[idx]) if ( ((i[1]==\"NNG\") or (i[1]==\"NNP\")) and(len(i[0])>1))] # 품사가 명사이면서, 길이가 2이상\n",
        "    train_data.append(\" \".join(tmp))\n",
        "\n",
        "test_data = []\n",
        "tmp = None\n",
        "for idx in tqdm(range(len(X_test))):\n",
        "    tmp = [i[0] for i in mecab_pos_tagger.pos(X_test[idx]) if ( ((i[1]==\"NNG\") or (i[1]==\"NNP\")) and(len(i[0])>1))] # 품사가 명사이면서, 길이가 2이상\n",
        "    test_data.append(\" \".join(tmp))\n",
        "\n",
        "# val_data = []\n",
        "# tmp = None\n",
        "# for idx in tqdm(range(len(X_val))):\n",
        "#     tmp = [i[0] for i in mecab_pos_tagger.pos(X_val[idx]) if ( ((i[1]==\"NNG\") or (i[1]==\"NNP\")) and(len(i[0])>1))] # 품사가 명사이면서, 길이가 2이상\n",
        "#     val_data.append(\" \".join(tmp))\n",
        "\n",
        "\n",
        "path = '/content/drive/My Drive/Colab code/brunch_project/data/vect'\n",
        "pickle.dump(train_data, open(os.path.join(path,'train_data_mecab_pos2len.pkl'),'wb'),\n",
        "            protocol=4)\n",
        "pickle.dump(test_data, open(os.path.join(path,'test_data_mecab_pos2len.pkl'),'wb'),\n",
        "            protocol=4)\n",
        "# pickle.dump(val_data, open(os.path.join(path,'val_data_mecab_pos2len.pkl'),'wb'),\n",
        "            # protocol=4)\n",
        "\n",
        "# with open('/content/drive/My Drive/Colab code/brunch_project/data/vect/train_data_mecab_pos2len.pkl', 'rb') as f:\n",
        "#   train_data = pickle.load(f) \n",
        "# with open('/content/drive/My Drive/Colab code/brunch_project/data/vect/test_data_mecab_pos2len.pkl', 'rb') as f:\n",
        "#   test_data = pickle.load(f)\n",
        "# with open('/content/drive/My Drive/Colab code/brunch_project/data/vect/val_data_mecab_pos2len.pkl', 'rb') as f:\n",
        "#   val_data = pickle.load(f)"
      ],
      "execution_count": null,
      "outputs": [
        {
          "output_type": "display_data",
          "data": {
            "application/vnd.jupyter.widget-view+json": {
              "model_id": "a39e4f42d12a477b80526cf819fbca76",
              "version_minor": 0,
              "version_major": 2
            },
            "text/plain": [
              "HBox(children=(FloatProgress(value=0.0, max=139843.0), HTML(value='')))"
            ]
          },
          "metadata": {
            "tags": []
          }
        },
        {
          "output_type": "stream",
          "text": [
            "\n"
          ],
          "name": "stdout"
        },
        {
          "output_type": "display_data",
          "data": {
            "application/vnd.jupyter.widget-view+json": {
              "model_id": "395c0572261d4e7c93bf12b775e6497a",
              "version_minor": 0,
              "version_major": 2
            },
            "text/plain": [
              "HBox(children=(FloatProgress(value=0.0, max=34961.0), HTML(value='')))"
            ]
          },
          "metadata": {
            "tags": []
          }
        },
        {
          "output_type": "stream",
          "text": [
            "\n"
          ],
          "name": "stdout"
        }
      ]
    },
    {
      "cell_type": "code",
      "metadata": {
        "id": "xR9Ryf-6dlTk",
        "colab_type": "code",
        "colab": {}
      },
      "source": [
        "from sklearn.feature_extraction.text import TfidfVectorizer\n",
        "\n",
        "tfidf_vect = TfidfVectorizer()\n",
        "tfidf_train_matrix = tfidf_vect.fit_transform(train_data) # matrix 저장\n",
        "tfidf_test_matrix = tfidf_vect.transform(test_data) ## test matrix 저장\n",
        "# tfidf_val_matrix = tfidf_vect.transform(val_data) ## validation matrix 저장\n",
        "\n",
        "# ## tfidf_vect_mecab_pos_mindf005 => mecab, pos(길이2이상명사) , min_df=0.05\n",
        "# ## tfidf_vect_mecab_pos_len2 => mecab, pos(길이2이상명사)\n",
        "# ##tfidf_vect_mecab_pos_ngram => mecab, pos(길이2이상명사) , ngram(1,2)\n",
        "# ##tfidf_vect_mecab_ngram_extraction => mecab, pos(길이2이상명사), ngram 추출법으로 차원줄임 , 빈도수10이상\n",
        "\n",
        "path = '/content/drive/My Drive/Colab code/brunch_project/data/vect'\n",
        "pickle.dump(tfidf_vect, open(os.path.join(path,'tfidf_vect_mecab_pos_len2.pkl'),'wb'),\n",
        "            protocol=4)\n",
        "pickle.dump(tfidf_train_matrix, open(os.path.join(path,'tfidf_train_matrix_mecab_pos_len2.pkl'),'wb'),\n",
        "            protocol=4)\n",
        "pickle.dump(tfidf_test_matrix, open(os.path.join(path,'tfidf_test_matrix_mecab_pos_len2.pkl'),'wb'),\n",
        "            protocol=4)\n",
        "# pickle.dump(tfidf_val_matrix, open(os.path.join(path,'tfidf_val_matrix_mecab_pos_ngram.pkl'),'wb'),\n",
        "#             protocol=4)\n",
        "\n",
        "# with open('/content/drive/My Drive/Colab code/brunch_project/data/vect/tfidf_train_matrix_mecab_pos_ngram.pkl', 'rb') as f:\n",
        "  # tfidf_train_matrix = pickle.load(f) \n",
        "# with open('/content/drive/My Drive/Colab code/brunch_project/data/vect/tfidf_test_matrix_mecab_pos_ngram.pkl', 'rb') as f:\n",
        "  # tfidf_test_matrix = pickle.load(f)\n",
        "# with open('/content/drive/My Drive/Colab code/brunch_project/data/vect/tfidf_val_matrix_mecab_pos_ngram.pkl', 'rb') as f:\n",
        "  # tfidf_val_matrix = pickle.load(f)"
      ],
      "execution_count": null,
      "outputs": []
    },
    {
      "cell_type": "code",
      "metadata": {
        "id": "aaqNrMfcUZUG",
        "colab_type": "code",
        "colab": {}
      },
      "source": [
        "##################################################\n",
        "############ n_gram extraction ###################\n",
        "##################################################"
      ],
      "execution_count": null,
      "outputs": []
    },
    {
      "cell_type": "code",
      "metadata": {
        "id": "tGpIsm0MUeqb",
        "colab_type": "code",
        "colab": {}
      },
      "source": [
        "############ n_gram extraction\n",
        "\n",
        "from collections import defaultdict\n",
        "mecab_pos_tagger = Mecab()\n",
        "# n_gram 반환\n",
        "def to_ngrams(words, n): # pos tagging된 리스트, n_gram범위\n",
        "    ngrams = []\n",
        "    for b in range(0, len(words) - n + 1): # 시작점 b부터 뒤 n개의 단어를 취하고 이를 tuple로 만듦\n",
        "        ngrams.append(tuple(words[b:b+n]))\n",
        "    return ngrams # [(n개씩 ngram),(),()....]\n",
        "\n",
        "\n",
        "docs = X_train\n",
        "def get_ngram_counter(docs, min_count=5, n_range=(1,2)): #빈도수 10이상의 ngram range(1,2)의 ngram 반환\n",
        "    n_begin, n_end = n_range\n",
        "    ngram_counter = defaultdict(int)\n",
        "    for doc in docs:\n",
        "        # words = mecab_pos_tagger.pos(doc, join=True)\n",
        "        words = [i[0] for i in mecab_pos_tagger.pos(doc) if ( ((i[1]==\"NNG\") or (i[1]==\"NNP\")) and(len(i[0])>1))]\n",
        "        for n in range(n_begin, n_end + 1):\n",
        "            for ngram in to_ngrams(words, n):\n",
        "                ngram_counter[ngram] += 1\n",
        "\n",
        "    ngram_counter = {\n",
        "        ngram:count for ngram, count in ngram_counter.items()\n",
        "        if count >= min_count\n",
        "    }\n",
        "\n",
        "    return ngram_counter\n",
        "\n",
        "ngram_counter = get_ngram_counter(docs) # ngram_counter 에는 uni, bi, tri-grams 이 함께 섞여 있습니다."
      ],
      "execution_count": null,
      "outputs": []
    },
    {
      "cell_type": "code",
      "metadata": {
        "id": "HnNH7VWRloDE",
        "colab_type": "code",
        "colab": {}
      },
      "source": [
        "class NgramTokenizer:\n",
        "\n",
        "    def __init__(self, ngrams, base_tokenizer, n_range=(1, 2)):\n",
        "        self.ngrams = ngrams\n",
        "        self.base_tokenizer = base_tokenizer\n",
        "        self.n_range = n_range\n",
        "\n",
        "    def __call__(self, sent):\n",
        "        return self.tokenize(sent)\n",
        "\n",
        "    def tokenize(self, sent):\n",
        "        if not sent:\n",
        "            return []\n",
        "\n",
        "        # unigrams = self.base_tokenizer.pos(sent, join=True)\n",
        "        unigrams = [i[0] for i in self.base_tokenizer.pos(sent) if ( ((i[1]==\"NNG\") or (i[1]==\"NNP\")) and(len(i[0])>1))]\n",
        "\n",
        "        n_begin, n_end = self.n_range\n",
        "        ngrams = []\n",
        "        for n in range(n_begin, n_end + 1):\n",
        "            for ngram in self._to_ngrams(unigrams, n):\n",
        "                ngrams.append('-'.join(ngram))\n",
        "        return ngrams\n",
        "\n",
        "    def _to_ngrams(self, words, n):\n",
        "      ngrams = []\n",
        "      for b in range(0, len(words) - n + 1):\n",
        "          ngram = tuple(words[b:b+n])\n",
        "          if ngram in self.ngrams:\n",
        "              ngrams.append(ngram)\n",
        "      return ngrams\n",
        "\n",
        "ngram_tokenizer = NgramTokenizer(ngram_counter, mecab_pos_tagger)"
      ],
      "execution_count": null,
      "outputs": []
    },
    {
      "cell_type": "code",
      "metadata": {
        "id": "sMaDoGbnZ8OU",
        "colab_type": "code",
        "colab": {}
      },
      "source": [
        "tfidf_vect = TfidfVectorizer(tokenizer=ngram_tokenizer,lowercase = False)\n",
        "\n",
        "tfidf_train_matrix = tfidf_vect.fit_transform(X_train)\n",
        "tfidf_test_matrix = tfidf_vect.transform(X_test)\n",
        "tfidf_val_matrix = tfidf_vect.transform(X_val)"
      ],
      "execution_count": null,
      "outputs": []
    },
    {
      "cell_type": "code",
      "metadata": {
        "id": "mf9avk8QChhr",
        "colab_type": "code",
        "colab": {}
      },
      "source": [
        "# import pickle\n",
        "# import os\n",
        "\n",
        "path = '/content/drive/My Drive/Colab code/brunch_project/data/vect'\n",
        "pickle.dump(tfidf_vect, open(os.path.join(path,'tfidf_vect_mecab_ngram_extraction.pkl'),'wb'),\n",
        "            protocol=4)\n",
        "pickle.dump(tfidf_train_matrix, open(os.path.join(path,'tfidf_train_matrix_mecab_ngram_extraction.pkl'),'wb'),\n",
        "            protocol=4)\n",
        "pickle.dump(tfidf_test_matrix, open(os.path.join(path,'tfidf_test_matrix_mecab_ngram_extraction.pkl'),'wb'),\n",
        "            protocol=4)\n",
        "pickle.dump(tfidf_val_matrix, open(os.path.join(path,'tfidf_val_matrix_mecab_ngram_extraction.pkl'),'wb'),\n",
        "            protocol=4)"
      ],
      "execution_count": null,
      "outputs": []
    },
    {
      "cell_type": "code",
      "metadata": {
        "id": "OoO4nrdTsl3x",
        "colab_type": "code",
        "colab": {}
      },
      "source": [
        "def get_ngram_score(ngram_counter, delta=30):\n",
        "    ngrams_ = {}\n",
        "    for ngram, count in ngram_counter.items():\n",
        "        if len(ngram) == 1:\n",
        "            continue\n",
        "        first = ngram_counter[ngram[:-1]]\n",
        "        second = ngram_counter[ngram[1:]]\n",
        "        score = (count - delta) / (first * second)\n",
        "        if score > 0:\n",
        "            ngrams_[ngram] = (count, score)\n",
        "    return ngrams_\n",
        "\n",
        "ngram_scores = get_ngram_score(ngram_counter)"
      ],
      "execution_count": null,
      "outputs": []
    }
  ]
}